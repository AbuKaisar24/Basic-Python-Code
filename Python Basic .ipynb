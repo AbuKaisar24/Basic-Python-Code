{
 "cells": [
  {
   "cell_type": "markdown",
   "metadata": {},
   "source": [
    "# Python\n",
    "  Python is a high-level,interpreted and dynamic language.\n",
    "# Why Python?\n",
    "    1.Beginner Friendly\n",
    "    2.Easy to understand \n",
    "    3.Very Flexible\n",
    "    4.Dynamic \n",
    "    5.Object-oriented \n",
    "    6.Protable\n",
    "    7.Extensive Support Library\n",
    "    8.Productivity \n",
    "# Use of Python Language\n",
    "    -Machine leaning \n",
    "    -Data Science\n",
    "    -Artificial Intelligence\n",
    "    -Deep Learning \n",
    "    -Natural Labguage Processing \n",
    "    -Computer Vision\n",
    "    -Image processing \n",
    "    -Pattern Recognition \n",
    "    \n",
    "    "
   ]
  },
  {
   "cell_type": "markdown",
   "metadata": {},
   "source": [
    "# Get Started\n",
    "\n",
    "Python3 Install\n",
    "https://www.python.org/downloads/\n",
    "\n",
    "Anaconda3 Install\n",
    "https://www.anaconda.com/distribution/\n"
   ]
  },
  {
   "cell_type": "markdown",
   "metadata": {},
   "source": [
    "# Python Comments and Docstrings\n",
    "   \n",
    "   1.Comment start with a #.\n",
    "   \n",
    "   2.Document capability of python is called docstring.\n",
    "      docstring can be one line or multilines.Docstring also be \n",
    "      a comments.\n",
    "  \n",
    "     \n"
   ]
  },
  {
   "cell_type": "code",
   "execution_count": 1,
   "metadata": {},
   "outputs": [],
   "source": [
    "#this is a comment."
   ]
  },
  {
   "cell_type": "code",
   "execution_count": 2,
   "metadata": {},
   "outputs": [
    {
     "data": {
      "text/plain": [
       "'this is \\na multiline docstring \\n'"
      ]
     },
     "execution_count": 2,
     "metadata": {},
     "output_type": "execute_result"
    }
   ],
   "source": [
    "\"\"\"this is \n",
    "a multiline docstring \n",
    "\"\"\""
   ]
  },
  {
   "cell_type": "markdown",
   "metadata": {},
   "source": [
    "# 1.Print Function"
   ]
  },
  {
   "cell_type": "code",
   "execution_count": 3,
   "metadata": {},
   "outputs": [
    {
     "name": "stdout",
     "output_type": "stream",
     "text": [
      "Hello word!\n"
     ]
    }
   ],
   "source": [
    "print(\"Hello word!\")"
   ]
  },
  {
   "cell_type": "markdown",
   "metadata": {},
   "source": [
    "# 2.Creating Variables\n",
    "Python has no command for declearing a variable."
   ]
  },
  {
   "cell_type": "code",
   "execution_count": 4,
   "metadata": {},
   "outputs": [
    {
     "name": "stdout",
     "output_type": "stream",
     "text": [
      "10\n",
      "12.45567\n",
      "Kaisar\n"
     ]
    }
   ],
   "source": [
    "a=10       #a is int type\n",
    "b=12.45567 #b is float type\n",
    "c=\"Kaisar\" #c is string type \n",
    "print(a)\n",
    "print(b)\n",
    "print(c)"
   ]
  },
  {
   "cell_type": "code",
   "execution_count": 5,
   "metadata": {},
   "outputs": [
    {
     "name": "stdout",
     "output_type": "stream",
     "text": [
      "<class 'int'>\n",
      "<class 'float'>\n",
      "<class 'str'>\n"
     ]
    }
   ],
   "source": [
    "print(type(a)) # type is a built in function \n",
    "print(type(b))\n",
    "print(type(c))"
   ]
  },
  {
   "cell_type": "code",
   "execution_count": 6,
   "metadata": {},
   "outputs": [
    {
     "name": "stdout",
     "output_type": "stream",
     "text": [
      "22.455669999999998\n",
      "-2.4556699999999996\n",
      "124.55669999999999\n",
      "0.802847217371687\n"
     ]
    }
   ],
   "source": [
    "print(a+b)# sum of two number \n",
    "print(a-b)# sub operation\n",
    "print(a*b)# mul operation  \n",
    "print(a/b)# division operation \n"
   ]
  },
  {
   "cell_type": "code",
   "execution_count": 7,
   "metadata": {},
   "outputs": [
    {
     "name": "stdout",
     "output_type": "stream",
     "text": [
      "Myname\n"
     ]
    }
   ],
   "source": [
    "s1=\"My\"\n",
    "s2=\"name\"\n",
    "print(s1+s2)"
   ]
  },
  {
   "cell_type": "markdown",
   "metadata": {},
   "source": [
    "# 3.Taking Input from User "
   ]
  },
  {
   "cell_type": "code",
   "execution_count": 9,
   "metadata": {},
   "outputs": [
    {
     "name": "stdout",
     "output_type": "stream",
     "text": [
      "enter a int value:12\n",
      "enter a flaot value:13.45\n",
      "enter a string:kaisar\n",
      "12\n",
      "13.45\n",
      "kaisar\n"
     ]
    }
   ],
   "source": [
    "a=int(input(\"enter a int value:\"))#take integer value \n",
    "b=float(input(\"enter a flaot value:\"))#take flaot value \n",
    "c=input(\"enter a string:\")#take string \n",
    "print(a)\n",
    "print(b)\n",
    "print(c)"
   ]
  },
  {
   "cell_type": "markdown",
   "metadata": {},
   "source": [
    "# 4.Math Operation"
   ]
  },
  {
   "cell_type": "code",
   "execution_count": 10,
   "metadata": {},
   "outputs": [
    {
     "name": "stdout",
     "output_type": "stream",
     "text": [
      "12.0\n"
     ]
    }
   ],
   "source": [
    "print((1+1)*(15-3)/2)#following PEMDAS rules"
   ]
  },
  {
   "cell_type": "code",
   "execution_count": 11,
   "metadata": {},
   "outputs": [
    {
     "name": "stdout",
     "output_type": "stream",
     "text": [
      "ashashash\n",
      "3.3400776666666663\n",
      "3.0\n"
     ]
    }
   ],
   "source": [
    "s1=\"ash\"\n",
    "print(s1*3)\n",
    "n=10.020233\n",
    "print(n/3)\n",
    "print(n//3)\n"
   ]
  },
  {
   "cell_type": "code",
   "execution_count": 12,
   "metadata": {},
   "outputs": [
    {
     "name": "stdout",
     "output_type": "stream",
     "text": [
      "27\n"
     ]
    }
   ],
   "source": [
    "a=3\n",
    "print(a**3)#** means the power of the variable "
   ]
  },
  {
   "cell_type": "code",
   "execution_count": 13,
   "metadata": {},
   "outputs": [
    {
     "name": "stdout",
     "output_type": "stream",
     "text": [
      "enter the radius:12.56\n",
      "area of circle A= 495.5975508373428\n"
     ]
    }
   ],
   "source": [
    "import math \n",
    "r=float(input(\"enter the radius:\"))\n",
    "print(\"area of circle A=\",math.pi*(r**2))# area of circle is A=pi*r^2\n"
   ]
  },
  {
   "cell_type": "markdown",
   "metadata": {},
   "source": [
    "# 5.String"
   ]
  },
  {
   "cell_type": "code",
   "execution_count": 14,
   "metadata": {},
   "outputs": [
    {
     "name": "stdout",
     "output_type": "stream",
     "text": [
      "Bangladesh is my country\n"
     ]
    }
   ],
   "source": [
    "s1=\"Bangladesh is my country\"\n",
    "print(s1)"
   ]
  },
  {
   "cell_type": "code",
   "execution_count": 16,
   "metadata": {},
   "outputs": [
    {
     "name": "stdout",
     "output_type": "stream",
     "text": [
      "a\n",
      "y\n",
      "ngladesh\n",
      " is my country\n",
      "Ban\n"
     ]
    }
   ],
   "source": [
    "print(s1[1])#print the string index number working as s[0],s[1],s[2]....s[n]\n",
    "print(s1[-1])#print the string as reverse order start with s[-1]...s[-n]\n",
    "print(s1[2:10])#print the character from position 2 to 10\n",
    "print(s1[10::])#print the character after index 10 to end od string \n",
    "print(s1[:3])#print start to index3 string "
   ]
  },
  {
   "cell_type": "code",
   "execution_count": 17,
   "metadata": {},
   "outputs": [
    {
     "name": "stdout",
     "output_type": "stream",
     "text": [
      "24\n"
     ]
    }
   ],
   "source": [
    "print(len(s1))#find the length of the string"
   ]
  },
  {
   "cell_type": "code",
   "execution_count": 18,
   "metadata": {},
   "outputs": [
    {
     "name": "stdout",
     "output_type": "stream",
     "text": [
      "bangladesh is my country\n",
      "BANGLADESH IS MY COUNTRY\n"
     ]
    }
   ],
   "source": [
    "print(s1.lower())#convert the srting in lower case \n",
    "print(s1.upper())#convert the srting in Upper case "
   ]
  },
  {
   "cell_type": "code",
   "execution_count": 19,
   "metadata": {},
   "outputs": [
    {
     "name": "stdout",
     "output_type": "stream",
     "text": [
      "['Bangladesh', 'is', 'my', 'country']\n"
     ]
    }
   ],
   "source": [
    "print(s1.split())#split the sentence to a single word"
   ]
  },
  {
   "cell_type": "code",
   "execution_count": 20,
   "metadata": {},
   "outputs": [
    {
     "name": "stdout",
     "output_type": "stream",
     "text": [
      "Bangladesh is My country\n"
     ]
    }
   ],
   "source": [
    "print(s1.replace(\"m\",\"M\"))\n"
   ]
  },
  {
   "cell_type": "code",
   "execution_count": 21,
   "metadata": {},
   "outputs": [
    {
     "name": "stdout",
     "output_type": "stream",
     "text": [
      "kaisar\n",
      "My name is kaisar\n"
     ]
    }
   ],
   "source": [
    "s1=\"My name is \"\n",
    "s2=input()\n",
    "print(s1+s2)"
   ]
  },
  {
   "cell_type": "markdown",
   "metadata": {},
   "source": [
    "# 6.List\n",
    " list is a collection which is ordered and changable.\n",
    " Python lists are written with squre brackets [] "
   ]
  },
  {
   "cell_type": "code",
   "execution_count": 22,
   "metadata": {},
   "outputs": [
    {
     "name": "stdout",
     "output_type": "stream",
     "text": [
      "['kaisar', 'rakib', 'imran']\n"
     ]
    }
   ],
   "source": [
    "l1=[\"kaisar\",\"rakib\",\"imran\"]\n",
    "print(l1)"
   ]
  },
  {
   "cell_type": "code",
   "execution_count": 23,
   "metadata": {},
   "outputs": [
    {
     "name": "stdout",
     "output_type": "stream",
     "text": [
      "3\n"
     ]
    }
   ],
   "source": [
    "print(len(l1))#length of the list count by single \"\""
   ]
  },
  {
   "cell_type": "code",
   "execution_count": 24,
   "metadata": {},
   "outputs": [
    {
     "name": "stdout",
     "output_type": "stream",
     "text": [
      "imran\n",
      "['kaisar', 'rakib']\n"
     ]
    }
   ],
   "source": [
    "print(l1[2])\n",
    "print(l1[0:2])#print before index2 value \n"
   ]
  },
  {
   "cell_type": "code",
   "execution_count": 39,
   "metadata": {},
   "outputs": [],
   "source": [
    "l1.append(\"ashraful\")"
   ]
  },
  {
   "cell_type": "code",
   "execution_count": 40,
   "metadata": {},
   "outputs": [
    {
     "name": "stdout",
     "output_type": "stream",
     "text": [
      "['kaisar', 'rakib', 'imran', 'ashraful']\n"
     ]
    }
   ],
   "source": [
    "print(l1)"
   ]
  },
  {
   "cell_type": "code",
   "execution_count": 42,
   "metadata": {},
   "outputs": [
    {
     "name": "stdout",
     "output_type": "stream",
     "text": [
      "['kaisar', 'rakib', 'imran', 'ashraful', 'shakil', 'shakil']\n"
     ]
    }
   ],
   "source": [
    "l1.insert(4,\"shakil\")#intsert with position\n",
    "print(l1)"
   ]
  },
  {
   "cell_type": "code",
   "execution_count": 45,
   "metadata": {},
   "outputs": [
    {
     "name": "stdout",
     "output_type": "stream",
     "text": [
      "['kaisar', 'rakib', 'imran', 'ashraful']\n"
     ]
    }
   ],
   "source": [
    "del(l1[4])#delete list in specific position \n",
    "print(l1)\n",
    "#we can use as same way some mwthod as like pop(),remove(),clear()...etc "
   ]
  },
  {
   "cell_type": "code",
   "execution_count": 49,
   "metadata": {},
   "outputs": [
    {
     "name": "stdout",
     "output_type": "stream",
     "text": [
      "['kaisar', 'rakib', 'imran', 'ashraful']\n",
      "['ashraful', 'imran', 'kaisar', 'rakib']\n"
     ]
    }
   ],
   "source": [
    "l1.reverse()\n",
    "print(l1)\n"
   ]
  },
  {
   "cell_type": "code",
   "execution_count": 50,
   "metadata": {},
   "outputs": [
    {
     "name": "stdout",
     "output_type": "stream",
     "text": [
      "['ashraful', 'imran', 'kaisar', 'rakib']\n"
     ]
    }
   ],
   "source": [
    "l1.sort()\n",
    "print(l1)"
   ]
  },
  {
   "cell_type": "markdown",
   "metadata": {},
   "source": [
    "# 7.Tuples\n",
    "is a collection which is ordered and unchangable.Written with round brackets()."
   ]
  },
  {
   "cell_type": "code",
   "execution_count": 51,
   "metadata": {},
   "outputs": [
    {
     "name": "stdout",
     "output_type": "stream",
     "text": [
      "('apple', 'banana', 'cherry')\n"
     ]
    }
   ],
   "source": [
    "Tuple = (\"apple\", \"banana\", \"cherry\")\n",
    "print(Tuple)"
   ]
  },
  {
   "cell_type": "code",
   "execution_count": 52,
   "metadata": {},
   "outputs": [
    {
     "name": "stdout",
     "output_type": "stream",
     "text": [
      "banana\n"
     ]
    }
   ],
   "source": [
    "Tuple = (\"apple\", \"banana\", \"cherry\")\n",
    "print(Tuple[1])"
   ]
  },
  {
   "cell_type": "code",
   "execution_count": 53,
   "metadata": {},
   "outputs": [
    {
     "name": "stdout",
     "output_type": "stream",
     "text": [
      "3\n"
     ]
    }
   ],
   "source": [
    "print(len(Tuple)) "
   ]
  },
  {
   "cell_type": "markdown",
   "metadata": {},
   "source": [
    "# 8.Sets\n",
    "A set is a collection which is unordered and unindexed. In Python sets are written with curly brackets."
   ]
  },
  {
   "cell_type": "code",
   "execution_count": 58,
   "metadata": {},
   "outputs": [
    {
     "name": "stdout",
     "output_type": "stream",
     "text": [
      "{'cherry', 'orange', 'banana', 'apple'}\n"
     ]
    }
   ],
   "source": [
    "thisset = {\"apple\", \"banana\", \"cherry\"}\n",
    "thisset.add(\"orange\")\n",
    "\n",
    "print(thisset) "
   ]
  },
  {
   "cell_type": "code",
   "execution_count": 59,
   "metadata": {},
   "outputs": [
    {
     "name": "stdout",
     "output_type": "stream",
     "text": [
      "{'banana', 'apple', 'cherry', 'mango', 'grapes', 'orange'}\n"
     ]
    }
   ],
   "source": [
    "thisset.update([\"orange\", \"mango\", \"grapes\"])#update the value of set \n",
    "print(thisset) "
   ]
  },
  {
   "cell_type": "markdown",
   "metadata": {},
   "source": [
    "# 9.Dictionary\n",
    "A dictionary is a collection which is unordered, changeable and indexed.\n",
    "written with curly brackets, and they have keys and values."
   ]
  },
  {
   "cell_type": "code",
   "execution_count": 60,
   "metadata": {},
   "outputs": [
    {
     "name": "stdout",
     "output_type": "stream",
     "text": [
      "{'brand': 'Ford', 'model': 'Mustang', 'year': 1964}\n"
     ]
    }
   ],
   "source": [
    "thisdict =\t{\n",
    "  \"brand\": \"Ford\",\n",
    "  \"model\": \"Mustang\",\n",
    "  \"year\": 1964\n",
    "}\n",
    "print(thisdict)"
   ]
  },
  {
   "cell_type": "code",
   "execution_count": 62,
   "metadata": {},
   "outputs": [
    {
     "name": "stdout",
     "output_type": "stream",
     "text": [
      "Mustang\n"
     ]
    }
   ],
   "source": [
    "x = thisdict[\"model\"]\n",
    "print(x)"
   ]
  },
  {
   "cell_type": "code",
   "execution_count": 63,
   "metadata": {},
   "outputs": [
    {
     "name": "stdout",
     "output_type": "stream",
     "text": [
      "Mustang\n"
     ]
    }
   ],
   "source": [
    "x = thisdict.get(\"model\")#get the value of key\n",
    "print(x)"
   ]
  },
  {
   "cell_type": "markdown",
   "metadata": {},
   "source": [
    "# 10.Python If ... Else\n"
   ]
  },
  {
   "cell_type": "code",
   "execution_count": 65,
   "metadata": {},
   "outputs": [
    {
     "name": "stdout",
     "output_type": "stream",
     "text": [
      "b is greater than a\n"
     ]
    }
   ],
   "source": [
    "a = 89\n",
    "b = 500\n",
    "if b > a:\n",
    "  print(\"b is greater than a\")"
   ]
  },
  {
   "cell_type": "code",
   "execution_count": 66,
   "metadata": {},
   "outputs": [
    {
     "name": "stdout",
     "output_type": "stream",
     "text": [
      "a is greater than b\n"
     ]
    }
   ],
   "source": [
    "a = 1000\n",
    "b = 330\n",
    "if b > a:\n",
    "  print(\"b is greater than a\")\n",
    "elif a == b:\n",
    "  print(\"a and b are equal\")\n",
    "else:\n",
    "  print(\"a is greater than b\")"
   ]
  },
  {
   "cell_type": "code",
   "execution_count": 67,
   "metadata": {},
   "outputs": [
    {
     "name": "stdout",
     "output_type": "stream",
     "text": [
      "A\n"
     ]
    }
   ],
   "source": [
    "print(\"A\") if a > b else print(\"=\") if a == b else print(\"B\") \n",
    "#one line if else "
   ]
  },
  {
   "cell_type": "code",
   "execution_count": 70,
   "metadata": {},
   "outputs": [
    {
     "name": "stdout",
     "output_type": "stream",
     "text": [
      "True\n"
     ]
    }
   ],
   "source": [
    "a=1\n",
    "b=1\n",
    "if a == b and b == a:\n",
    "    c=True\n",
    "    print(c)\n",
    "else:\n",
    "    c=False"
   ]
  },
  {
   "cell_type": "markdown",
   "metadata": {},
   "source": [
    "# 11.For Loop"
   ]
  },
  {
   "cell_type": "code",
   "execution_count": 71,
   "metadata": {},
   "outputs": [
    {
     "name": "stdout",
     "output_type": "stream",
     "text": [
      "0\n",
      "1\n",
      "2\n",
      "3\n",
      "4\n",
      "5\n"
     ]
    }
   ],
   "source": [
    "for i in range(6): \n",
    "    print(i)\n",
    "#range() function returns a sequence of numbers, starting from 0 by default\n",
    "# and increments by 1 (by default), and ends at a specified number."
   ]
  },
  {
   "cell_type": "code",
   "execution_count": 72,
   "metadata": {},
   "outputs": [
    {
     "name": "stdout",
     "output_type": "stream",
     "text": [
      "1\n",
      "3\n",
      "5\n",
      "7\n",
      "9\n"
     ]
    }
   ],
   "source": [
    "for i in range(1,10,2): \n",
    "    print(i)\n",
    "#1 staring loopnumber,10 ending loop,loop increment by 2"
   ]
  },
  {
   "cell_type": "code",
   "execution_count": 79,
   "metadata": {},
   "outputs": [
    {
     "name": "stdout",
     "output_type": "stream",
     "text": [
      "Even number: 0\tEven number: 2\tEven number: 4\tEven number: 6\tEven number: 8\tEven number: 10\tEven number: 12\tEven number: 14\tEven number: 16\tEven number: 18\tOdd number: 1\tOdd number: 3\tOdd number: 5\tOdd number: 7\tOdd number: 9\tOdd number: 11\tOdd number: 13\tOdd number: 15\tOdd number: 17\tOdd number: 19\t"
     ]
    }
   ],
   "source": [
    "#first 10  odd and even number\n",
    "for i in range(0,20,2):\n",
    "    print(\"Even number:\",i,end=\"\\t\")\n",
    "for i in range(1,20,2):\n",
    "    print(\"Odd number:\",i,end=\"\\t\")"
   ]
  },
  {
   "cell_type": "code",
   "execution_count": 80,
   "metadata": {},
   "outputs": [
    {
     "name": "stdout",
     "output_type": "stream",
     "text": [
      "apple\n",
      "banana\n",
      "cherry\n"
     ]
    }
   ],
   "source": [
    "fruits = [\"apple\", \"banana\", \"cherry\"]#for loop for list\n",
    "for x in fruits:\n",
    "  print(x)"
   ]
  },
  {
   "cell_type": "code",
   "execution_count": 81,
   "metadata": {},
   "outputs": [
    {
     "name": "stdout",
     "output_type": "stream",
     "text": [
      "apple\n",
      "banana\n"
     ]
    }
   ],
   "source": [
    "fruits = [\"apple\", \"banana\", \"cherry\"]\n",
    "for x in fruits:\n",
    "  print(x)\n",
    "  if x == \"banana\":\n",
    "    break"
   ]
  },
  {
   "cell_type": "code",
   "execution_count": 83,
   "metadata": {},
   "outputs": [
    {
     "name": "stdout",
     "output_type": "stream",
     "text": [
      "apple\n",
      "cherry\n"
     ]
    }
   ],
   "source": [
    "fruits = [\"apple\", \"banana\", \"cherry\"]\n",
    "for x in fruits:\n",
    "  if x == \"banana\":\n",
    "    continue\n",
    "  print(x)"
   ]
  },
  {
   "cell_type": "markdown",
   "metadata": {},
   "source": [
    "# 12.While Loop"
   ]
  },
  {
   "cell_type": "code",
   "execution_count": 85,
   "metadata": {},
   "outputs": [
    {
     "name": "stdout",
     "output_type": "stream",
     "text": [
      "1\n",
      "2\n",
      "3\n",
      "4\n",
      "5\n"
     ]
    }
   ],
   "source": [
    "i = 1\n",
    "while i < 6:\n",
    "  print(i)\n",
    "  i =i+1"
   ]
  },
  {
   "cell_type": "markdown",
   "metadata": {},
   "source": [
    "# 13.Python Functions\n",
    "In Python a function is defined using the def keyword."
   ]
  },
  {
   "cell_type": "code",
   "execution_count": 87,
   "metadata": {},
   "outputs": [
    {
     "name": "stdout",
     "output_type": "stream",
     "text": [
      "Hello from a function\n"
     ]
    }
   ],
   "source": [
    "def my_function():\n",
    "  print(\"Hello from a function\")\n",
    "\n",
    "my_function()"
   ]
  },
  {
   "cell_type": "code",
   "execution_count": 89,
   "metadata": {},
   "outputs": [
    {
     "name": "stdout",
     "output_type": "stream",
     "text": [
      "Emil Refsnes\n",
      "Tobias Refsnes\n",
      "Linus Refsnes\n"
     ]
    }
   ],
   "source": [
    "def my_function(fname):\n",
    "  print(fname + \" Refsnes\")\n",
    "\n",
    "my_function(\"Emil\")\n",
    "my_function(\"Tobias\")\n",
    "my_function(\"Linus\")"
   ]
  },
  {
   "cell_type": "code",
   "execution_count": 90,
   "metadata": {},
   "outputs": [
    {
     "name": "stdout",
     "output_type": "stream",
     "text": [
      "195\n",
      "225\n",
      "285\n"
     ]
    }
   ],
   "source": [
    "def fun(x):\n",
    "  return 15 * x\n",
    "\n",
    "print(fun(13))\n",
    "print(fun(15))\n",
    "print(fun(19))"
   ]
  },
  {
   "cell_type": "code",
   "execution_count": 92,
   "metadata": {},
   "outputs": [
    {
     "name": "stdout",
     "output_type": "stream",
     "text": [
      "enter salary:100\n",
      "Yearly salary: 1260.0\n"
     ]
    }
   ],
   "source": [
    "def salary(x):\n",
    "    y=12*x\n",
    "    y=y*0.05+y\n",
    "    return y\n",
    "a=int(input(\"enter salary:\"))\n",
    "d=salary(a)\n",
    "print(\"Yearly salary:\",d)\n"
   ]
  },
  {
   "cell_type": "markdown",
   "metadata": {},
   "source": [
    "# 14.Python Lambda\n",
    "A lambda function is a small anonymous function.\n",
    "\n",
    "Syntex=\n",
    " lambda arguments : expression "
   ]
  },
  {
   "cell_type": "code",
   "execution_count": 93,
   "metadata": {},
   "outputs": [
    {
     "name": "stdout",
     "output_type": "stream",
     "text": [
      "15\n"
     ]
    }
   ],
   "source": [
    "x = lambda a : a + 10\n",
    "print(x(5)) "
   ]
  },
  {
   "cell_type": "code",
   "execution_count": 94,
   "metadata": {},
   "outputs": [
    {
     "name": "stdout",
     "output_type": "stream",
     "text": [
      "30\n"
     ]
    }
   ],
   "source": [
    "x = lambda a, b : a * b\n",
    "print(x(5, 6)) "
   ]
  },
  {
   "cell_type": "markdown",
   "metadata": {},
   "source": [
    "# 15.Files"
   ]
  },
  {
   "cell_type": "code",
   "execution_count": 97,
   "metadata": {},
   "outputs": [
    {
     "name": "stdout",
     "output_type": "stream",
     "text": [
      "﻿সাংবাদিকের ওপর হামলা গ্রেপ্তার ৬\n",
      "\n",
      "কিশোরগঞ্জে সাংবাদিকের ওপর হামলা ও ক্যামেরা-মুঠোফোন ছিনতাইয়ের ঘটনায় ছয় ছিনতাইকারীকে গ্রেপ্তার করেছে পুলিশ। উদ্ধার করা হয়েছে দুটি ডিএসএলআর ক্যামেরা। গতকাল বৃহস্পতিবার রাতে শহরের বিভিন্ন স্থানে অভিযান চালিয়ে তাঁদের গ্রেপ্তার করা হয়।\n",
      "গ্রেপ্তার ব্যক্তিরা হলেন: কিশোরগঞ্জ শহরের শোলাকিয়া বনানী মোড় এলাকার আরমান মিয়া, শোলাকিয়া এলাকার বচন দত্ত, একই এলাকার মো. রিয়াজ, পূর্ব তারাপাশা গ্রামের আসিফুল আলম ও নিউটাউন এলাকার খোকন মিয়ার ছেলে মেহেদি হাসান ও একই এলাকার নাঈম আহমেদ।\n",
      "পুলিশ জানায়, একটি অনুষ্ঠানের কথা বলে গত ২২ জানুয়ারি রাতে অনলাইন ফটো এজেন্সি বাংলার চোখের কিশোরগঞ্জ প্রতিনিধি আবির হোসেন ও তাঁর বন্ধু কলেজছাত্র সাব্বির আহমেদকে শহরের শোলাকিয়া বনানী মোড় এলাকায় যেতে বলেন এক যুবক। মোটরসাইকেল নিয়ে ওই সাংবাদিক বনানী মোড়ে যাওয়ার পর শোলাকিয়া এলাকার মো. রিয়াজ তাঁদের অনুষ্ঠানস্থলে নিয়ে যাওয়ার কথা বলে কিশোরগঞ্জ সদর উপজেলার চংশোলাকিয়ায় অবস্থিত একটি পরিত্যক্ত খামারবাড়িতে নিয়ে যান। এ সময় সেখানে আগে থেকে অবস্থান নেওয়া ৮/১০ যুবক সাংবাদিক ও তাঁর বন্ধুকে পিটিয়ে আহত করে দুটি ক্যামেরা, দুটি মুঠোফোন ও মানিব্যাগ নিয়ে যান। এ ঘটনায় পরদিন অজ্ঞাতনামা ছিনতাইকারীদের আসামি করে কিশোরগঞ্জ মডেল থানায় একটি মামলা করেন আবিরের মা রুবি ইসলাম। পরে পুলিশ মুঠোফোনের সূত্র ধরে বিভিন্ন স্থানে অভিযান চালিয়ে তাঁদের গ্রেপ্তার করে।\n",
      "কিশোরগঞ্জ সদর মডেল থানার ভারপ্রাপ্ত কর্মকর্তা (ওসি) আবু বকর সিদ্দিক বলেন, এ ঘটনায় এখন পর্যন্ত ছয়জনকে গ্রেপ্তার করা হয়েছে। অন্যদের ধরতেও পুলিশি অভিযান অব্যাহত আছে।\n",
      "\n"
     ]
    }
   ],
   "source": [
    "#file open and read a text file \n",
    "file=open(\"input.txt\",\"r\",encoding=\"utf-8\")\n",
    "print(file.read())"
   ]
  },
  {
   "cell_type": "code",
   "execution_count": 106,
   "metadata": {},
   "outputs": [
    {
     "name": "stdout",
     "output_type": "stream",
     "text": [
      "36\n"
     ]
    }
   ],
   "source": [
    "#file write \n",
    "text=\"my name is abu kaisar mohammad masum\"\n",
    "f=open('out.txt','w')\n",
    "c=f.write(text)\n",
    "print(c)#print the length of the line number"
   ]
  },
  {
   "cell_type": "code",
   "execution_count": 107,
   "metadata": {},
   "outputs": [
    {
     "name": "stdout",
     "output_type": "stream",
     "text": [
      "my name is abu kaisar mohammad masum\n"
     ]
    }
   ],
   "source": [
    "file=open(\"out.txt\",\"r\",encoding=\"utf-8\")\n",
    "print(file.read())"
   ]
  }
 ],
 "metadata": {
  "kernelspec": {
   "display_name": "Python 3",
   "language": "python",
   "name": "python3"
  },
  "language_info": {
   "codemirror_mode": {
    "name": "ipython",
    "version": 3
   },
   "file_extension": ".py",
   "mimetype": "text/x-python",
   "name": "python",
   "nbconvert_exporter": "python",
   "pygments_lexer": "ipython3",
   "version": "3.6.5"
  }
 },
 "nbformat": 4,
 "nbformat_minor": 2
}
